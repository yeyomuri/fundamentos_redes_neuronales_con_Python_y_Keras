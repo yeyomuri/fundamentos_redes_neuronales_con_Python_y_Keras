{
  "nbformat": 4,
  "nbformat_minor": 0,
  "metadata": {
    "colab": {
      "name": "clasificacion_multiple.ipynb",
      "provenance": [],
      "authorship_tag": "ABX9TyOj7Rq6GwdqWN5he4GmkdzQ",
      "include_colab_link": true
    },
    "kernelspec": {
      "name": "python3",
      "display_name": "Python 3"
    },
    "language_info": {
      "name": "python"
    },
    "accelerator": "GPU"
  },
  "cells": [
    {
      "cell_type": "markdown",
      "metadata": {
        "id": "view-in-github",
        "colab_type": "text"
      },
      "source": [
        "<a href=\"https://colab.research.google.com/github/yeyomuri/fundamentos_redes_neuronales_con_Python_y_Keras/blob/main/clasificacion_multiple.ipynb\" target=\"_parent\"><img src=\"https://colab.research.google.com/assets/colab-badge.svg\" alt=\"Open In Colab\"/></a>"
      ]
    },
    {
      "cell_type": "markdown",
      "source": [
        "##Clasificación de noticias\n"
      ],
      "metadata": {
        "id": "-xQVdMAnsMkj"
      }
    },
    {
      "cell_type": "code",
      "execution_count": 2,
      "metadata": {
        "id": "yiOiSIcdAXlb"
      },
      "outputs": [],
      "source": [
        "import numpy as np\n",
        "import matplotlib.pyplot as plt\n",
        "from keras import layers, models\n",
        "from keras.datasets import reuters\n",
        "\n"
      ]
    },
    {
      "cell_type": "code",
      "source": [
        "(train_data, train_labels), (test_data, test_label) = reuters.load_data(num_words = 10000)"
      ],
      "metadata": {
        "id": "TBqO0PrgAiLx",
        "colab": {
          "base_uri": "https://localhost:8080/"
        },
        "outputId": "3b26c3c4-5955-4409-890e-da9b7178c858"
      },
      "execution_count": 3,
      "outputs": [
        {
          "output_type": "stream",
          "name": "stdout",
          "text": [
            "Downloading data from https://storage.googleapis.com/tensorflow/tf-keras-datasets/reuters.npz\n",
            "2113536/2110848 [==============================] - 0s 0us/step\n",
            "2121728/2110848 [==============================] - 0s 0us/step\n"
          ]
        }
      ]
    },
    {
      "cell_type": "code",
      "source": [
        "train_data[0]"
      ],
      "metadata": {
        "colab": {
          "base_uri": "https://localhost:8080/"
        },
        "id": "NAHffzGwsu2E",
        "outputId": "4156e038-0a06-4330-fe67-7d887d564c93"
      },
      "execution_count": 4,
      "outputs": [
        {
          "output_type": "execute_result",
          "data": {
            "text/plain": [
              "[1,\n",
              " 2,\n",
              " 2,\n",
              " 8,\n",
              " 43,\n",
              " 10,\n",
              " 447,\n",
              " 5,\n",
              " 25,\n",
              " 207,\n",
              " 270,\n",
              " 5,\n",
              " 3095,\n",
              " 111,\n",
              " 16,\n",
              " 369,\n",
              " 186,\n",
              " 90,\n",
              " 67,\n",
              " 7,\n",
              " 89,\n",
              " 5,\n",
              " 19,\n",
              " 102,\n",
              " 6,\n",
              " 19,\n",
              " 124,\n",
              " 15,\n",
              " 90,\n",
              " 67,\n",
              " 84,\n",
              " 22,\n",
              " 482,\n",
              " 26,\n",
              " 7,\n",
              " 48,\n",
              " 4,\n",
              " 49,\n",
              " 8,\n",
              " 864,\n",
              " 39,\n",
              " 209,\n",
              " 154,\n",
              " 6,\n",
              " 151,\n",
              " 6,\n",
              " 83,\n",
              " 11,\n",
              " 15,\n",
              " 22,\n",
              " 155,\n",
              " 11,\n",
              " 15,\n",
              " 7,\n",
              " 48,\n",
              " 9,\n",
              " 4579,\n",
              " 1005,\n",
              " 504,\n",
              " 6,\n",
              " 258,\n",
              " 6,\n",
              " 272,\n",
              " 11,\n",
              " 15,\n",
              " 22,\n",
              " 134,\n",
              " 44,\n",
              " 11,\n",
              " 15,\n",
              " 16,\n",
              " 8,\n",
              " 197,\n",
              " 1245,\n",
              " 90,\n",
              " 67,\n",
              " 52,\n",
              " 29,\n",
              " 209,\n",
              " 30,\n",
              " 32,\n",
              " 132,\n",
              " 6,\n",
              " 109,\n",
              " 15,\n",
              " 17,\n",
              " 12]"
            ]
          },
          "metadata": {},
          "execution_count": 4
        }
      ]
    },
    {
      "cell_type": "code",
      "source": [
        "word_index = reuters.get_word_index()\n",
        "word_index = dict([(value, key)for(key, value)in word_index.items()])\n",
        "for _ in train_data[0]:\n",
        "  print(word_index.get(_-3))"
      ],
      "metadata": {
        "colab": {
          "base_uri": "https://localhost:8080/"
        },
        "id": "lbACW1e5sxpL",
        "outputId": "f10ddd97-c2a7-4491-94d9-b1105d9ce082"
      },
      "execution_count": 10,
      "outputs": [
        {
          "output_type": "stream",
          "name": "stdout",
          "text": [
            "None\n",
            "None\n",
            "None\n",
            "said\n",
            "as\n",
            "a\n",
            "result\n",
            "of\n",
            "its\n",
            "december\n",
            "acquisition\n",
            "of\n",
            "space\n",
            "co\n",
            "it\n",
            "expects\n",
            "earnings\n",
            "per\n",
            "share\n",
            "in\n",
            "1987\n",
            "of\n",
            "1\n",
            "15\n",
            "to\n",
            "1\n",
            "30\n",
            "dlrs\n",
            "per\n",
            "share\n",
            "up\n",
            "from\n",
            "70\n",
            "cts\n",
            "in\n",
            "1986\n",
            "the\n",
            "company\n",
            "said\n",
            "pretax\n",
            "net\n",
            "should\n",
            "rise\n",
            "to\n",
            "nine\n",
            "to\n",
            "10\n",
            "mln\n",
            "dlrs\n",
            "from\n",
            "six\n",
            "mln\n",
            "dlrs\n",
            "in\n",
            "1986\n",
            "and\n",
            "rental\n",
            "operation\n",
            "revenues\n",
            "to\n",
            "19\n",
            "to\n",
            "22\n",
            "mln\n",
            "dlrs\n",
            "from\n",
            "12\n",
            "5\n",
            "mln\n",
            "dlrs\n",
            "it\n",
            "said\n",
            "cash\n",
            "flow\n",
            "per\n",
            "share\n",
            "this\n",
            "year\n",
            "should\n",
            "be\n",
            "2\n",
            "50\n",
            "to\n",
            "three\n",
            "dlrs\n",
            "reuter\n",
            "3\n"
          ]
        }
      ]
    },
    {
      "cell_type": "code",
      "source": [
        "def vectorizar(sequences, dim=10000):\n",
        "  results = np.zeros((len(sequences), dim))\n",
        "  for i, sequences in enumerate (sequences):\n",
        "    results[i, sequences] = 1\n",
        "    return results"
      ],
      "metadata": {
        "id": "4C1afRiItM9y"
      },
      "execution_count": 11,
      "outputs": []
    },
    {
      "cell_type": "code",
      "source": [
        "x_train = vectorizar(train_data)\n",
        "x_test = vectorizar(test_data)"
      ],
      "metadata": {
        "id": "5tmauR0Eu5s7"
      },
      "execution_count": 12,
      "outputs": []
    },
    {
      "cell_type": "markdown",
      "source": [
        "#Crear estructura de tensor"
      ],
      "metadata": {
        "id": "g83NYsmyvml9"
      }
    },
    {
      "cell_type": "code",
      "source": [
        "from tensorflow.keras.utils import to_categorical"
      ],
      "metadata": {
        "id": "Iqa71EBcvEou"
      },
      "execution_count": 15,
      "outputs": []
    },
    {
      "cell_type": "code",
      "source": [
        "y_train = to_categorical(train_labels)\n",
        "y_test = to_categorical(test_label)"
      ],
      "metadata": {
        "id": "1JNajUVivHnw"
      },
      "execution_count": 17,
      "outputs": []
    },
    {
      "cell_type": "code",
      "source": [
        "y_train[0]"
      ],
      "metadata": {
        "colab": {
          "base_uri": "https://localhost:8080/"
        },
        "id": "uaoB8xClvdDN",
        "outputId": "b6ada207-304e-4288-d866-baff56090a47"
      },
      "execution_count": 18,
      "outputs": [
        {
          "output_type": "execute_result",
          "data": {
            "text/plain": [
              "array([0., 0., 0., 1., 0., 0., 0., 0., 0., 0., 0., 0., 0., 0., 0., 0., 0.,\n",
              "       0., 0., 0., 0., 0., 0., 0., 0., 0., 0., 0., 0., 0., 0., 0., 0., 0.,\n",
              "       0., 0., 0., 0., 0., 0., 0., 0., 0., 0., 0., 0.], dtype=float32)"
            ]
          },
          "metadata": {},
          "execution_count": 18
        }
      ]
    },
    {
      "cell_type": "markdown",
      "source": [
        "##Creación de las capas "
      ],
      "metadata": {
        "id": "35pwfjR4w5K2"
      }
    },
    {
      "cell_type": "code",
      "source": [
        "model = models.Sequential()\n",
        "model.add(layers.Dense(64, activation = 'relu', input_shape = (10000, )))\n",
        "model.add(layers.Dense(64, activation='relu'))\n",
        "model.add(layers.Dense(46, activation='softmax'))"
      ],
      "metadata": {
        "id": "GEzz6dwUvkRe"
      },
      "execution_count": 20,
      "outputs": []
    },
    {
      "cell_type": "code",
      "source": [
        "model.compile(optimizer = 'rmsprop', loss = 'categorical_crossentropy', metrics = ['accuracy'])"
      ],
      "metadata": {
        "id": "uQluk061v1HN"
      },
      "execution_count": 22,
      "outputs": []
    },
    {
      "cell_type": "code",
      "source": [
        "x_val = x_train[:1000]\n",
        "partial_x_train = x_train[1000:]\n",
        "y_val = y_train[:1000]\n",
        "partial_y_train = y_train[1000:]"
      ],
      "metadata": {
        "id": "uMB_PAxawcDY"
      },
      "execution_count": 23,
      "outputs": []
    },
    {
      "cell_type": "markdown",
      "source": [
        "##Entrenamiento del model de clasificación multiple"
      ],
      "metadata": {
        "id": "IGrL5aKsxa2z"
      }
    },
    {
      "cell_type": "code",
      "source": [
        "history = model.fit(partial_x_train, partial_y_train, epochs = 30, batch_size = 512, validation_data = (x_val, y_val))"
      ],
      "metadata": {
        "colab": {
          "base_uri": "https://localhost:8080/"
        },
        "id": "jKFtXexdw1aT",
        "outputId": "d1e50638-508a-4b83-9ca8-ec219019bed7"
      },
      "execution_count": 27,
      "outputs": [
        {
          "output_type": "stream",
          "name": "stdout",
          "text": [
            "Epoch 1/30\n",
            "16/16 [==============================] - 0s 22ms/step - loss: 3.2692 - accuracy: 0.3514 - val_loss: 3.2614 - val_accuracy: 0.3530\n",
            "Epoch 2/30\n",
            "16/16 [==============================] - 0s 19ms/step - loss: 3.2536 - accuracy: 0.3514 - val_loss: 3.2459 - val_accuracy: 0.3530\n",
            "Epoch 3/30\n",
            "16/16 [==============================] - 0s 18ms/step - loss: 3.2382 - accuracy: 0.3514 - val_loss: 3.2305 - val_accuracy: 0.3530\n",
            "Epoch 4/30\n",
            "16/16 [==============================] - 0s 19ms/step - loss: 3.2230 - accuracy: 0.3514 - val_loss: 3.2153 - val_accuracy: 0.3530\n",
            "Epoch 5/30\n",
            "16/16 [==============================] - 0s 18ms/step - loss: 3.2081 - accuracy: 0.3514 - val_loss: 3.2004 - val_accuracy: 0.3530\n",
            "Epoch 6/30\n",
            "16/16 [==============================] - 0s 20ms/step - loss: 3.1933 - accuracy: 0.3514 - val_loss: 3.1856 - val_accuracy: 0.3530\n",
            "Epoch 7/30\n",
            "16/16 [==============================] - 0s 18ms/step - loss: 3.1785 - accuracy: 0.3514 - val_loss: 3.1707 - val_accuracy: 0.3530\n",
            "Epoch 8/30\n",
            "16/16 [==============================] - 0s 20ms/step - loss: 3.1638 - accuracy: 0.3514 - val_loss: 3.1561 - val_accuracy: 0.3530\n",
            "Epoch 9/30\n",
            "16/16 [==============================] - 0s 17ms/step - loss: 3.1494 - accuracy: 0.3514 - val_loss: 3.1417 - val_accuracy: 0.3530\n",
            "Epoch 10/30\n",
            "16/16 [==============================] - 0s 20ms/step - loss: 3.1351 - accuracy: 0.3514 - val_loss: 3.1273 - val_accuracy: 0.3530\n",
            "Epoch 11/30\n",
            "16/16 [==============================] - 0s 21ms/step - loss: 3.1209 - accuracy: 0.3514 - val_loss: 3.1131 - val_accuracy: 0.3530\n",
            "Epoch 12/30\n",
            "16/16 [==============================] - 0s 20ms/step - loss: 3.1068 - accuracy: 0.3514 - val_loss: 3.0990 - val_accuracy: 0.3530\n",
            "Epoch 13/30\n",
            "16/16 [==============================] - 0s 17ms/step - loss: 3.0929 - accuracy: 0.3514 - val_loss: 3.0850 - val_accuracy: 0.3530\n",
            "Epoch 14/30\n",
            "16/16 [==============================] - 0s 20ms/step - loss: 3.0791 - accuracy: 0.3514 - val_loss: 3.0712 - val_accuracy: 0.3530\n",
            "Epoch 15/30\n",
            "16/16 [==============================] - 0s 19ms/step - loss: 3.0655 - accuracy: 0.3514 - val_loss: 3.0576 - val_accuracy: 0.3530\n",
            "Epoch 16/30\n",
            "16/16 [==============================] - 0s 18ms/step - loss: 3.0520 - accuracy: 0.3514 - val_loss: 3.0440 - val_accuracy: 0.3530\n",
            "Epoch 17/30\n",
            "16/16 [==============================] - 0s 18ms/step - loss: 3.0385 - accuracy: 0.3514 - val_loss: 3.0304 - val_accuracy: 0.3530\n",
            "Epoch 18/30\n",
            "16/16 [==============================] - 0s 21ms/step - loss: 3.0252 - accuracy: 0.3514 - val_loss: 3.0171 - val_accuracy: 0.3530\n",
            "Epoch 19/30\n",
            "16/16 [==============================] - 0s 20ms/step - loss: 3.0122 - accuracy: 0.3514 - val_loss: 3.0039 - val_accuracy: 0.3530\n",
            "Epoch 20/30\n",
            "16/16 [==============================] - 0s 18ms/step - loss: 2.9991 - accuracy: 0.3514 - val_loss: 2.9907 - val_accuracy: 0.3530\n",
            "Epoch 21/30\n",
            "16/16 [==============================] - 0s 17ms/step - loss: 2.9862 - accuracy: 0.3514 - val_loss: 2.9777 - val_accuracy: 0.3530\n",
            "Epoch 22/30\n",
            "16/16 [==============================] - 0s 17ms/step - loss: 2.9734 - accuracy: 0.3514 - val_loss: 2.9649 - val_accuracy: 0.3530\n",
            "Epoch 23/30\n",
            "16/16 [==============================] - 0s 21ms/step - loss: 2.9608 - accuracy: 0.3514 - val_loss: 2.9521 - val_accuracy: 0.3530\n",
            "Epoch 24/30\n",
            "16/16 [==============================] - 0s 18ms/step - loss: 2.9482 - accuracy: 0.3514 - val_loss: 2.9394 - val_accuracy: 0.3530\n",
            "Epoch 25/30\n",
            "16/16 [==============================] - 0s 20ms/step - loss: 2.9358 - accuracy: 0.3514 - val_loss: 2.9270 - val_accuracy: 0.3530\n",
            "Epoch 26/30\n",
            "16/16 [==============================] - 0s 17ms/step - loss: 2.9236 - accuracy: 0.3514 - val_loss: 2.9146 - val_accuracy: 0.3530\n",
            "Epoch 27/30\n",
            "16/16 [==============================] - 0s 19ms/step - loss: 2.9115 - accuracy: 0.3514 - val_loss: 2.9024 - val_accuracy: 0.3530\n",
            "Epoch 28/30\n",
            "16/16 [==============================] - 0s 22ms/step - loss: 2.8995 - accuracy: 0.3514 - val_loss: 2.8903 - val_accuracy: 0.3530\n",
            "Epoch 29/30\n",
            "16/16 [==============================] - 0s 18ms/step - loss: 2.8876 - accuracy: 0.3514 - val_loss: 2.8784 - val_accuracy: 0.3530\n",
            "Epoch 30/30\n",
            "16/16 [==============================] - 0s 19ms/step - loss: 2.8759 - accuracy: 0.3514 - val_loss: 2.8665 - val_accuracy: 0.3530\n"
          ]
        }
      ]
    },
    {
      "cell_type": "code",
      "source": [
        "history_dict = history.history\n",
        "loss_values = history_dict['loss']\n",
        "val_loss_values = history_dict['val_loss']\n",
        "epoch = range(1, len(loss_values)+1)\n",
        "plt.plot(epoch, loss_values, 'o', label = 'training')\n",
        "plt.plot(epoch, val_loss_values, '--', label = 'training')\n",
        "plt.legend()\n",
        "plt.show()"
      ],
      "metadata": {
        "colab": {
          "base_uri": "https://localhost:8080/",
          "height": 265
        },
        "id": "MO4Z1WDhx-TC",
        "outputId": "e5dcfe3c-b8f0-4fb6-907d-0c0265ddb700"
      },
      "execution_count": 28,
      "outputs": [
        {
          "output_type": "display_data",
          "data": {
            "text/plain": [
              "<Figure size 432x288 with 1 Axes>"
            ],
            "image/png": "[encoded data removed]"
          },
          "metadata": {
            "needs_background": "light"
          }
        }
      ]
    },
    {
      "cell_type": "code",
      "source": [
        "model.evaluate(x_test, y_test)"
      ],
      "metadata": {
        "colab": {
          "base_uri": "https://localhost:8080/"
        },
        "id": "93t3Eg9f0mo_",
        "outputId": "641efa43-4757-4b25-e62a-6da54e0cddea"
      },
      "execution_count": 30,
      "outputs": [
        {
          "output_type": "stream",
          "name": "stdout",
          "text": [
            "71/71 [==============================] - 1s 7ms/step - loss: 2.8798 - accuracy: 0.3620\n"
          ]
        },
        {
          "output_type": "execute_result",
          "data": {
            "text/plain": [
              "[2.879810094833374, 0.36197686195373535]"
            ]
          },
          "metadata": {},
          "execution_count": 30
        }
      ]
    },
    {
      "cell_type": "code",
      "source": [
        ""
      ],
      "metadata": {
        "id": "FsX1Zr7u1yXx"
      },
      "execution_count": null,
      "outputs": []
    }
  ]
}