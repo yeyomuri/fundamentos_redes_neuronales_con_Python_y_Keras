{
  "nbformat": 4,
  "nbformat_minor": 0,
  "metadata": {
    "colab": {
      "name": "dimensiones_tensores_reshape.ipynb",
      "provenance": [],
      "authorship_tag": "ABX9TyOHYxZUA3NfTApT2ySKQn1/",
      "include_colab_link": true
    },
    "kernelspec": {
      "name": "python3",
      "display_name": "Python 3"
    },
    "language_info": {
      "name": "python"
    }
  },
  "cells": [
    {
      "cell_type": "markdown",
      "metadata": {
        "id": "view-in-github",
        "colab_type": "text"
      },
      "source": [
        "<a href=\"https://colab.research.google.com/github/yeyomuri/fundamentos_redes_neuronales_con_Python_y_Keras/blob/main/dimensiones_tensores_reshape.ipynb\" target=\"_parent\"><img src=\"https://colab.research.google.com/assets/colab-badge.svg\" alt=\"Open In Colab\"/></a>"
      ]
    },
    {
      "cell_type": "code",
      "execution_count": 2,
      "metadata": {
        "id": "xgu0ze8aadiq"
      },
      "outputs": [],
      "source": [
        "import numpy as np"
      ]
    },
    {
      "cell_type": "code",
      "source": [
        "x = np.array(42)\n",
        "print(x.shape)\n",
        "x.ndim"
      ],
      "metadata": {
        "colab": {
          "base_uri": "https://localhost:8080/"
        },
        "id": "DRIjVZ-gakVP",
        "outputId": "27cbcee8-5e13-424a-9a73-c0ff5a77784a"
      },
      "execution_count": 3,
      "outputs": [
        {
          "output_type": "stream",
          "name": "stdout",
          "text": [
            "()\n"
          ]
        },
        {
          "output_type": "execute_result",
          "data": {
            "text/plain": [
              "0"
            ]
          },
          "metadata": {},
          "execution_count": 3
        }
      ]
    },
    {
      "cell_type": "markdown",
      "source": [
        "##Vector"
      ],
      "metadata": {
        "id": "CFAljpysqqAl"
      }
    },
    {
      "cell_type": "code",
      "source": [
        "x = np.array([42, 3, 5, 3, 6, 7])\n",
        "print('El tamaño de arreglo es: ', x.shape)\n",
        "print('El número de dimensiones es: ', x.ndim)"
      ],
      "metadata": {
        "colab": {
          "base_uri": "https://localhost:8080/"
        },
        "id": "UE5pZcv-qmzH",
        "outputId": "8a3ae47f-4271-43a4-db68-1475198aa006"
      },
      "execution_count": 10,
      "outputs": [
        {
          "output_type": "stream",
          "name": "stdout",
          "text": [
            "El tamaño de arreglo es:  (6,)\n",
            "El número de dimensiones es:  1\n"
          ]
        }
      ]
    },
    {
      "cell_type": "markdown",
      "source": [
        "##Matiz\n"
      ],
      "metadata": {
        "id": "hpZ1wGS7q6kF"
      }
    },
    {
      "cell_type": "code",
      "source": [
        "x = np.array([[2,3], [4,3]])\n",
        "print('El tamaño de arregle es: ', x.shape)\n",
        "print('El número de simensiones es: ', x.ndim)"
      ],
      "metadata": {
        "colab": {
          "base_uri": "https://localhost:8080/"
        },
        "id": "V6wsg1Xyq4tI",
        "outputId": "a20ae287-d66f-4340-8906-48c173b9714b"
      },
      "execution_count": 11,
      "outputs": [
        {
          "output_type": "stream",
          "name": "stdout",
          "text": [
            "El tamaño de arregle es:  (2, 2)\n",
            "El número de simensiones es:  2\n"
          ]
        }
      ]
    },
    {
      "cell_type": "markdown",
      "source": [
        "##Tensor"
      ],
      "metadata": {
        "id": "oq-eaYZErM9f"
      }
    },
    {
      "cell_type": "code",
      "source": [
        "x = np.array([[[2,3], [4,5]], [[2,3], [4,5]]])\n",
        "print('El tamaño del arreglo es: ', x.shape)\n",
        "print('El número de dimensiones es: ', x.ndim)"
      ],
      "metadata": {
        "colab": {
          "base_uri": "https://localhost:8080/"
        },
        "id": "VMQ1HJs1rE9e",
        "outputId": "f332e41d-2589-4837-bae2-9215cf3d20cc"
      },
      "execution_count": 12,
      "outputs": [
        {
          "output_type": "stream",
          "name": "stdout",
          "text": [
            "El tamaño del arreglo es:  (2, 2, 2)\n",
            "El número de dimensiones es:  3\n"
          ]
        }
      ]
    },
    {
      "cell_type": "markdown",
      "source": [
        "##Reshape"
      ],
      "metadata": {
        "id": "loSRomQbsP7C"
      }
    },
    {
      "cell_type": "code",
      "source": [
        "x = np.array([[0,1], \n",
        "          [0,1], \n",
        "          [4,5], \n",
        "          [5, 7], \n",
        "          [8, 9]]\n",
        "          )\n",
        "print('El tamaño del arregl es: ', x.shape)\n",
        "print('El número de dimensiones es', x.ndim)"
      ],
      "metadata": {
        "colab": {
          "base_uri": "https://localhost:8080/"
        },
        "id": "afhyuGJ5rdF4",
        "outputId": "4cc7feb8-ce67-427c-9bc5-2ed4173de6d3"
      },
      "execution_count": 19,
      "outputs": [
        {
          "output_type": "stream",
          "name": "stdout",
          "text": [
            "El tamaño del arregl es:  (5, 2)\n",
            "El número de dimensiones es 2\n"
          ]
        }
      ]
    },
    {
      "cell_type": "code",
      "source": [
        "x.reshape(10,1)"
      ],
      "metadata": {
        "colab": {
          "base_uri": "https://localhost:8080/"
        },
        "id": "TDlJKXdHstFN",
        "outputId": "08313d8e-fc87-41c8-9355-153eacd9f121"
      },
      "execution_count": 20,
      "outputs": [
        {
          "output_type": "execute_result",
          "data": {
            "text/plain": [
              "array([[0],\n",
              "       [1],\n",
              "       [0],\n",
              "       [1],\n",
              "       [4],\n",
              "       [5],\n",
              "       [5],\n",
              "       [7],\n",
              "       [8],\n",
              "       [9]])"
            ]
          },
          "metadata": {},
          "execution_count": 20
        }
      ]
    },
    {
      "cell_type": "code",
      "source": [
        "x.reshape(2, 5)"
      ],
      "metadata": {
        "colab": {
          "base_uri": "https://localhost:8080/"
        },
        "id": "JyM5wfOEtAkA",
        "outputId": "d9387d32-8a00-438d-d76d-e6bfc8fd2e56"
      },
      "execution_count": 21,
      "outputs": [
        {
          "output_type": "execute_result",
          "data": {
            "text/plain": [
              "array([[0, 1, 0, 1, 4],\n",
              "       [5, 5, 7, 8, 9]])"
            ]
          },
          "metadata": {},
          "execution_count": 21
        }
      ]
    },
    {
      "cell_type": "markdown",
      "source": [
        "##Transpuesta"
      ],
      "metadata": {
        "id": "0BNTK_lxuIQU"
      }
    },
    {
      "cell_type": "code",
      "source": [
        "x.T"
      ],
      "metadata": {
        "colab": {
          "base_uri": "https://localhost:8080/"
        },
        "id": "GSzHQtf8tmgi",
        "outputId": "74d81553-5f09-4909-bb98-d3d29018fe46"
      },
      "execution_count": 23,
      "outputs": [
        {
          "output_type": "execute_result",
          "data": {
            "text/plain": [
              "array([[0, 0, 4, 5, 8],\n",
              "       [1, 1, 5, 7, 9]])"
            ]
          },
          "metadata": {},
          "execution_count": 23
        }
      ]
    },
    {
      "cell_type": "code",
      "source": [
        ""
      ],
      "metadata": {
        "id": "GEdH_nJFuNOn"
      },
      "execution_count": null,
      "outputs": []
    }
  ]
}